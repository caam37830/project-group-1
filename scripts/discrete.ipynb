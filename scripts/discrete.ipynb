{
 "metadata": {
  "language_info": {
   "codemirror_mode": {
    "name": "ipython",
    "version": 3
   },
   "file_extension": ".py",
   "mimetype": "text/x-python",
   "name": "python",
   "nbconvert_exporter": "python",
   "pygments_lexer": "ipython3",
   "version": "3.8.5-final"
  },
  "orig_nbformat": 2,
  "kernelspec": {
   "name": "python3",
   "display_name": "Python 3"
  }
 },
 "nbformat": 4,
 "nbformat_minor": 2,
 "cells": [
  {
   "cell_type": "code",
   "execution_count": 1,
   "metadata": {},
   "outputs": [],
   "source": [
    "from discrete import *\n",
    "from numpy.random import randint, rand\n",
    "import matplotlib.pyplot as plt\n"
   ]
  },
  {
   "cell_type": "code",
   "execution_count": 4,
   "metadata": {},
   "outputs": [
    {
     "output_type": "error",
     "ename": "TypeError",
     "evalue": "run_simulation() takes 1 positional argument but 3 were given",
     "traceback": [
      "\u001b[0;31m---------------------------------------------------------------------------\u001b[0m",
      "\u001b[0;31mTypeError\u001b[0m                                 Traceback (most recent call last)",
      "\u001b[0;32m<ipython-input-4-fb0493e904d4>\u001b[0m in \u001b[0;36m<module>\u001b[0;34m\u001b[0m\n\u001b[1;32m      2\u001b[0m \u001b[0mb\u001b[0m\u001b[0;34m=\u001b[0m\u001b[0;36m0.01\u001b[0m\u001b[0;34m\u001b[0m\u001b[0;34m\u001b[0m\u001b[0m\n\u001b[1;32m      3\u001b[0m \u001b[0mk\u001b[0m\u001b[0;34m=\u001b[0m\u001b[0;36m0.9\u001b[0m\u001b[0;34m\u001b[0m\u001b[0;34m\u001b[0m\u001b[0m\n\u001b[0;32m----> 4\u001b[0;31m \u001b[0msimulate\u001b[0m\u001b[0;34m.\u001b[0m\u001b[0mrun_simulation\u001b[0m\u001b[0;34m(\u001b[0m\u001b[0mAgent\u001b[0m\u001b[0;34m,\u001b[0m \u001b[0;36m0.01\u001b[0m\u001b[0;34m,\u001b[0m \u001b[0;36m0.9\u001b[0m\u001b[0;34m)\u001b[0m\u001b[0;34m\u001b[0m\u001b[0;34m\u001b[0m\u001b[0m\n\u001b[0m\u001b[1;32m      5\u001b[0m \u001b[0;34m\u001b[0m\u001b[0m\n\u001b[1;32m      6\u001b[0m \u001b[0;34m\u001b[0m\u001b[0m\n",
      "\u001b[0;31mTypeError\u001b[0m: run_simulation() takes 1 positional argument but 3 were given"
     ]
    }
   ],
   "source": [
    "N = 1000\n",
    "b=0.01\n",
    "k=0.9\n",
    "simulate.run_simulation(Agent, 0.01, 0.9)\n",
    "\n",
    "\n"
   ]
  },
  {
   "cell_type": "code",
   "execution_count": null,
   "metadata": {},
   "outputs": [],
   "source": [
    "for i in range(N):\n",
    "    if pop[i].is_infected():\n",
    "        for j in range(N):\n",
    "            if pop[j].is_susceptible():\n",
    "                if rand() < b:\n",
    "                    pop[j].infect()        \n",
    "        if rand() < k:\n",
    "            pop[i].recover()"
   ]
  },
  {
   "cell_type": "code",
   "execution_count": null,
   "metadata": {},
   "outputs": [],
   "source": [
    "def count_infected(pop):\n",
    "    return sum(p.is_infected() for p in pop)\n",
    "\n",
    "def count_recovered(pop):\n",
    "    return sum(p.is_recovered() for p in pop)\n",
    "\n",
    "def count_susc(pop):\n",
    "    return sum(p.is_susceptible() for p in pop)\n",
    "\n",
    "count_recovered(pop)\n"
   ]
  },
  {
   "cell_type": "code",
   "execution_count": null,
   "metadata": {},
   "outputs": [],
   "source": [
    "T = 100 # number of days to simulate\n",
    "counts = [count_infected(pop)]\n",
    "for t in range(T):\n",
    "    # update the population\n",
    "    for i in range(N):\n",
    "        if pop[i].is_infected():\n",
    "            for j in range(N):\n",
    "                if pop[j].is_susceptible():\n",
    "                    if rand() < b:\n",
    "                        pop[j].infect()        \n",
    "            if rand() < k:\n",
    "                pop[i].recover()                    \n",
    "    # add to our counts\n",
    "    counts.append(count_infected(pop))\n",
    "\n",
    "plt.plot(counts)\n",
    "plt.show()"
   ]
  },
  {
   "cell_type": "code",
   "execution_count": null,
   "metadata": {},
   "outputs": [],
   "source": [
    "def run_simulation(b, k, N=1_000, T=20):\n",
    "    \"\"\"\n",
    "    return the number of people enlightened at time T\n",
    "    \"\"\"\n",
    "    \n",
    "    pop = [Person() for i in range(N)] # our population\n",
    "    pop[0].enlighten()\n",
    "    \n",
    "    for t in range(T):\n",
    "    # update the population\n",
    "        for i in range(N):\n",
    "            if pop[i].is_infected():\n",
    "                for j in range(N):\n",
    "                    if pop[j].is_susceptible():\n",
    "                        if rand() < b:\n",
    "                            pop[j].infect()        \n",
    "                if rand() < k:\n",
    "                    pop[i].recover()                 \n",
    "                    \n",
    "    return count_infected(pop)"
   ]
  },
  {
   "cell_type": "code",
   "execution_count": null,
   "metadata": {},
   "outputs": [],
   "source": []
  }
 ]
}