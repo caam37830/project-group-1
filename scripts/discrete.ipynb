{
 "cells": [
  {
   "cell_type": "code",
   "execution_count": 1,
   "metadata": {
    "pycharm": {
     "is_executing": true
    }
   },
   "outputs": [],
   "source": [
    "from discrete import *\n",
    "import numpy as np \n",
    "from numpy.random import randint, rand\n",
    "import matplotlib.pyplot as plt\n"
   ]
  },
  {
   "cell_type": "code",
   "execution_count": 3,
   "metadata": {},
   "outputs": [],
   "source": [
    "def count_infected(pop):\n",
    "    return sum(p.is_infected() for p in pop)\n",
    "\n",
    "def count_recovered(pop):\n",
    "    return sum(p.is_recovered() for p in pop)\n",
    "\n",
    "def count_susc(pop):\n",
    "    return sum(p.is_susceptible() for p in pop)\n",
    "\n",
    "def run_simulation(b, k, N=1_000, T=20):\n",
    "    \"\"\"\n",
    "    return the number of people enlightened at time T\n",
    "    \"\"\"\n",
    "    \n",
    "    pop = [Agent() for i in range(N)] # our population\n",
    "    pop[0].infect()\n",
    "    counts_sus = [count_susc(pop)]\n",
    "    counts_inf = [count_infected(pop)]\n",
    "    counts_rec = [count_recovered(pop)]\n",
    "    for t in range(T):\n",
    "    # update the population\n",
    "        for i in range(N):\n",
    "            if pop[i].is_infected():\n",
    "                for j in range(N):\n",
    "                    if pop[j].is_susceptible():\n",
    "                        if rand() < b:\n",
    "                            pop[j].infect()        \n",
    "                if rand() < k:\n",
    "                    pop[i].recover()   \n",
    "        counts_sus.append(count_susc(pop))\n",
    "        counts_inf.append(count_infected(pop))\n",
    "        counts_rec.append(count_recovered(pop))\n",
    "\n",
    "    return counts_sus, counts_inf, counts_rec\n",
    "\n"
   ]
  },
  {
   "cell_type": "code",
   "execution_count": null,
   "metadata": {},
   "outputs": [
    {
     "name": "stdout",
     "output_type": "stream",
     "text": [
      "Plot for b = 0.0005 and k = 0.02\n"
     ]
    },
    {
     "data": {
      "image/png": "[encoded data removed]",
      "text/plain": [
       "<Figure size 432x288 with 1 Axes>"
      ]
     },
     "metadata": {
      "needs_background": "light"
     },
     "output_type": "display_data"
    },
    {
     "name": "stdout",
     "output_type": "stream",
     "text": [
      "Plot for b = 0.0005 and k = 0.01\n"
     ]
    }
   ],
   "source": [
    "bs = [0.0005, 0.0003, 0.0001]\n",
    "ks = [0.02, 0.01, 0.001, 0.0001]\n",
    "for b in bs:\n",
    "    for k in ks:\n",
    "        print(\"Plot for b = {} and k = {}\".format(b, k))\n",
    "        counts_sus, counts_inf, counts_rec = run_simulation(b, k, T=600, N=1000)\n",
    "        plt.plot(counts_sus, label='Susceptible')\n",
    "        plt.plot(counts_inf, label='Infected')\n",
    "        plt.plot(counts_rec, label='Recovered')\n",
    "        plt.xlabel('t')\n",
    "        plt.ylabel('pop')\n",
    "        plt.title('SIR Discrete with b = {} and k = {}'.format(b, k))\n",
    "        plt.legend()\n",
    "        plt.show()"
   ]
  },
  {
   "cell_type": "code",
   "execution_count": null,
   "metadata": {},
   "outputs": [],
   "source": [
    "cts"
   ]
  },
  {
   "cell_type": "code",
   "execution_count": null,
   "metadata": {},
   "outputs": [],
   "source": [
    "# alternate way to do the plotting\n",
    "T = 100 # number of days to simulate\n",
    "b = 0.01\n",
    "k = 0.05\n",
    "N = 1000\n",
    "\n",
    "pop = [Agent() for i in range(N)]\n",
    "pop[0].infect()\n",
    "counts = [count_infected(pop)]\n",
    "for t in range(T):\n",
    "    # update the population\n",
    "    for i in range(N):\n",
    "        if pop[i].is_infected():\n",
    "            for j in range(N):\n",
    "                if pop[j].is_susceptible():\n",
    "                    if rand() < b:\n",
    "                        pop[j].infect()        \n",
    "            if rand() < k:\n",
    "                pop[i].recover()                    \n",
    "    # add to our counts\n",
    "    counts.append(count_infected(pop))\n",
    "\n",
    "plt.plot(counts)\n",
    "plt.show()\n",
    "plt.clf()"
   ]
  },
  {
   "cell_type": "code",
   "execution_count": null,
   "metadata": {},
   "outputs": [],
   "source": []
  }
 ],
 "metadata": {
  "kernelspec": {
   "display_name": "Python 3",
   "language": "python",
   "name": "python3"
  },
  "language_info": {
   "codemirror_mode": {
    "name": "ipython",
    "version": 3
   },
   "file_extension": ".py",
   "mimetype": "text/x-python",
   "name": "python",
   "nbconvert_exporter": "python",
   "pygments_lexer": "ipython3",
   "version": "3.6.2"
  }
 },
 "nbformat": 4,
 "nbformat_minor": 2
}
